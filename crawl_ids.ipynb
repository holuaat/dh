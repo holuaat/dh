{
 "cells": [
  {
   "cell_type": "code",
   "execution_count": 1,
   "id": "934eaaa8",
   "metadata": {},
   "outputs": [],
   "source": [
    "import json\n",
    "from urllib.request import urlopen, Request"
   ]
  },
  {
   "cell_type": "code",
   "execution_count": 2,
   "id": "623e0753",
   "metadata": {},
   "outputs": [],
   "source": [
    "def save_ids(url: str):\n",
    "    \"\"\"Takes url as string argument, saves dates and ids to a file named ids.json\"\"\"\n",
    "    \n",
    "    file = urlopen(Request(url, headers={'User-Agent': 'Mozilla/5.0'}))\n",
    "    out_list = []\n",
    "    for line in file:\n",
    "        decoded_line = line.decode(\"utf-8\")\n",
    "        if \"<li>\" in decoded_line and \"CC-MAIN\" in decoded_line:\n",
    "            date_id = decoded_line.split(\"CC-MAIN-\")[1].split(\"/\")[0].split(\" \")[0]\n",
    "            out_list.append(date_id)\n",
    "    \n",
    "    with open('ids.json', 'w') as f:\n",
    "        json.dump(out_list, f)"
   ]
  },
  {
   "cell_type": "code",
   "execution_count": 3,
   "id": "e2fdbed5",
   "metadata": {},
   "outputs": [],
   "source": [
    "# example:\n",
    "url = \"https://commoncrawl.org/the-data/get-started/\"\n",
    "save_ids(url)"
   ]
  }
 ],
 "metadata": {
  "kernelspec": {
   "display_name": "Python 3 (ipykernel)",
   "language": "python",
   "name": "python3"
  },
  "language_info": {
   "codemirror_mode": {
    "name": "ipython",
    "version": 3
   },
   "file_extension": ".py",
   "mimetype": "text/x-python",
   "name": "python",
   "nbconvert_exporter": "python",
   "pygments_lexer": "ipython3",
   "version": "3.9.12"
  }
 },
 "nbformat": 4,
 "nbformat_minor": 5
}
