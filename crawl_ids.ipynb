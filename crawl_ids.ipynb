{
 "cells": [
  {
   "cell_type": "code",
   "execution_count": 1,
   "id": "934eaaa8",
   "metadata": {},
   "outputs": [],
   "source": [
    "import json\n",
    "from urllib.request import urlopen, Request"
   ]
  },
  {
   "cell_type": "code",
   "execution_count": 2,
   "id": "623e0753",
   "metadata": {},
   "outputs": [],
   "source": [
    "url = \"https://commoncrawl.org/the-data/get-started/\"\n",
    "file = urlopen(Request(url, headers={'User-Agent': 'Mozilla/5.0'}))"
   ]
  },
  {
   "cell_type": "code",
   "execution_count": 3,
   "id": "ef42b62b",
   "metadata": {},
   "outputs": [],
   "source": [
    "out_list = []\n",
    "for line in file:\n",
    "    decoded_line = line.decode(\"utf-8\")\n",
    "    if \"<li>\" in decoded_line and \"CC-MAIN\" in decoded_line:\n",
    "        date_id = decoded_line.split(\"CC-MAIN-\")[1].split(\"/\")[0].split(\" \")[0]\n",
    "        out_list.append(date_id)"
   ]
  },
  {
   "cell_type": "code",
   "execution_count": 4,
   "id": "e2fdbed5",
   "metadata": {},
   "outputs": [
    {
     "data": {
      "text/plain": [
       "['2013-20',\n",
       " '2013-48',\n",
       " '2014-10',\n",
       " '2014-15',\n",
       " '2014-23',\n",
       " '2014-35',\n",
       " '2014-41',\n",
       " '2014-42',\n",
       " '2014-49',\n",
       " '2014-52',\n",
       " '2015-06',\n",
       " '2015-11',\n",
       " '2015-14',\n",
       " '2015-18',\n",
       " '2015-22',\n",
       " '2015-27',\n",
       " '2015-32',\n",
       " '2015-35',\n",
       " '2015-40',\n",
       " '2015-48',\n",
       " '2016-07',\n",
       " '2016-18',\n",
       " '2016-22',\n",
       " '2016-26',\n",
       " '2016-30',\n",
       " '2016-36',\n",
       " '2016-40',\n",
       " '2016-44',\n",
       " '2016-50',\n",
       " '2017-04',\n",
       " '2017-09',\n",
       " '2017-13',\n",
       " '2017-17',\n",
       " '2017-22',\n",
       " '2017-26',\n",
       " '2017-30',\n",
       " '2017-34',\n",
       " '2017-39',\n",
       " '2017-43',\n",
       " '2017-47',\n",
       " '2017-51',\n",
       " '2018-05',\n",
       " '2018-09',\n",
       " '2018-13',\n",
       " '2018-17',\n",
       " '2018-22',\n",
       " '2018-26',\n",
       " '2018-30',\n",
       " '2018-34',\n",
       " '2018-39',\n",
       " '2018-43',\n",
       " '2018-47',\n",
       " '2018-51',\n",
       " '2019-04',\n",
       " '2019-09',\n",
       " '2019-13',\n",
       " '2019-18',\n",
       " '2019-22',\n",
       " '2019-26',\n",
       " '2019-30',\n",
       " '2019-35',\n",
       " '2019-39',\n",
       " '2019-43',\n",
       " '2019-47',\n",
       " '2019-51',\n",
       " '2020-05',\n",
       " '2020-10',\n",
       " '2020-16',\n",
       " '2020-24',\n",
       " '2020-29',\n",
       " '2020-34',\n",
       " '2020-40',\n",
       " '2020-45',\n",
       " '2020-50',\n",
       " '2021-04',\n",
       " '2021-10',\n",
       " '2021-17',\n",
       " '2021-21',\n",
       " '2021-25',\n",
       " '2021-31',\n",
       " '2021-39',\n",
       " '2021-43',\n",
       " '2021-49',\n",
       " '2022-05',\n",
       " '2022-21']"
      ]
     },
     "execution_count": 4,
     "metadata": {},
     "output_type": "execute_result"
    }
   ],
   "source": [
    "out_list"
   ]
  },
  {
   "cell_type": "code",
   "execution_count": 5,
   "id": "b4d80a63",
   "metadata": {},
   "outputs": [],
   "source": [
    "with open('ids.json', 'w') as f:\n",
    "    json.dump(out_list, f)"
   ]
  }
 ],
 "metadata": {
  "kernelspec": {
   "display_name": "Python 3 (ipykernel)",
   "language": "python",
   "name": "python3"
  },
  "language_info": {
   "codemirror_mode": {
    "name": "ipython",
    "version": 3
   },
   "file_extension": ".py",
   "mimetype": "text/x-python",
   "name": "python",
   "nbconvert_exporter": "python",
   "pygments_lexer": "ipython3",
   "version": "3.9.12"
  }
 },
 "nbformat": 4,
 "nbformat_minor": 5
}
